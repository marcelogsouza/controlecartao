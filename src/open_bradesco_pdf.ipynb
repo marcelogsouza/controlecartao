{
 "cells": [
  {
   "cell_type": "markdown",
   "id": "487477d6-ce3f-421f-bfc7-61d649ab5ca5",
   "metadata": {},
   "source": [
    "# Notebook para abertura de pdf da do Bradesco"
   ]
  },
  {
   "cell_type": "code",
   "execution_count": 4,
   "id": "80ccd890-d3d6-46bb-95f5-b96068e456eb",
   "metadata": {},
   "outputs": [
    {
     "name": "stdout",
     "output_type": "stream",
     "text": [
      "Collecting pdfminer.six\n",
      "  Downloading pdfminer.six-20211012-py3-none-any.whl (5.6 MB)\n",
      "\u001b[K     |████████████████████████████████| 5.6 MB 10.8 MB/s eta 0:00:01\n",
      "\u001b[?25hRequirement already satisfied: cryptography in /home/user/miniconda/lib/python3.9/site-packages (from pdfminer.six) (3.4.7)\n",
      "Requirement already satisfied: chardet in /home/user/miniconda/lib/python3.9/site-packages (from pdfminer.six) (4.0.0)\n",
      "Requirement already satisfied: cffi>=1.12 in /home/user/miniconda/lib/python3.9/site-packages (from cryptography->pdfminer.six) (1.14.6)\n",
      "Requirement already satisfied: pycparser in /home/user/miniconda/lib/python3.9/site-packages (from cffi>=1.12->cryptography->pdfminer.six) (2.20)\n",
      "Installing collected packages: pdfminer.six\n",
      "Successfully installed pdfminer.six-20211012\n"
     ]
    }
   ],
   "source": [
    "!pip install pdfminer.six"
   ]
  },
  {
   "cell_type": "markdown",
   "id": "aab29d98-a8bd-4b5a-ab79-d61bc506258b",
   "metadata": {},
   "source": [
    "## Imports"
   ]
  },
  {
   "cell_type": "code",
   "execution_count": 5,
   "id": "3f8f7ad2-5c77-42cf-a2e3-741fcc1b8b44",
   "metadata": {},
   "outputs": [],
   "source": [
    "import numpy as np\n",
    "import pandas as pd\n",
    "from pdfminer.high_level import extract_text"
   ]
  },
  {
   "cell_type": "code",
   "execution_count": null,
   "id": "1ed707f3-9d1a-4ac8-b97c-db375dbfc133",
   "metadata": {},
   "outputs": [],
   "source": [
    "text = extract_text(\"apple_10k.pdf\")\n",
    "print(text)"
   ]
  }
 ],
 "metadata": {
  "kernelspec": {
   "display_name": "Python 3 (ipykernel)",
   "language": "python",
   "name": "python3"
  },
  "language_info": {
   "codemirror_mode": {
    "name": "ipython",
    "version": 3
   },
   "file_extension": ".py",
   "mimetype": "text/x-python",
   "name": "python",
   "nbconvert_exporter": "python",
   "pygments_lexer": "ipython3",
   "version": "3.9.5"
  }
 },
 "nbformat": 4,
 "nbformat_minor": 5
}
